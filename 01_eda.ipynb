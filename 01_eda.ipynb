{
 "cells": [
  {
   "cell_type": "code",
   "execution_count": null,
   "metadata": {},
   "outputs": [],
   "source": [
    "import pandas as pd\n",
    "import numpy as np\n",
    "import matplotlib.pyplot as plt\n",
    "import seaborn as sns\n",
    "\n",
    "# Optional: For a nice auto report (install with pip install pandas-profiling or ydata-profiling)\n",
    "# from ydata_profiling import ProfileReport  \n",
    "\n",
    "# 📌 2. Load Raw Data\n",
    "raw_data_path = \"../data/raw/your_dataset.csv\"  # 🔁 Change filename if needed\n",
    "df = pd.read_csv(raw_data_path)\n",
    "\n",
    "# 📌 3. Basic Exploration\n",
    "print(\"Shape of dataset:\", df.shape)\n",
    "print(\"\\nFirst 5 rows:\")\n",
    "display(df.head())\n",
    "\n",
    "print(\"\\nColumn types:\")\n",
    "print(df.dtypes)\n",
    "\n",
    "print(\"\\nMissing values:\")\n",
    "print(df.isnull().sum())\n",
    "\n",
    "print(\"\\nDuplicate rows:\", df.duplicated().sum())\n",
    "\n",
    "# 📌 4. Descriptive Stats\n",
    "print(\"\\nDescriptive statistics:\")\n",
    "display(df.describe(include='all'))\n",
    "\n",
    "# 📌 5. Data Distribution\n",
    "numerical_cols = df.select_dtypes(include=['int64', 'float64']).columns\n",
    "\n",
    "df[numerical_cols].hist(bins=30, figsize=(15, 10), color='skyblue')\n",
    "plt.tight_layout()\n",
    "plt.show()\n",
    "\n",
    "# 📌 6. Correlation Matrix\n",
    "plt.figure(figsize=(10, 8))\n",
    "sns.heatmap(df[numerical_cols].corr(), annot=True, fmt=\".2f\", cmap=\"coolwarm\")\n",
    "plt.title(\"Correlation Heatmap\")\n",
    "plt.show()\n",
    "\n",
    "# 📌 7. Optional: Auto EDA report\n",
    "# profile = ProfileReport(df, title=\"EDA Report\", explorative=True)\n",
    "# profile.to_notebook_iframe()  # or profile.to_file(\"eda_report.html\")\n"
   ]
  }
 ],
 "metadata": {
  "language_info": {
   "name": "python"
  }
 },
 "nbformat": 4,
 "nbformat_minor": 2
}
